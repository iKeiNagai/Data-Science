{
 "cells": [
  {
   "cell_type": "code",
   "execution_count": 1,
   "metadata": {},
   "outputs": [
    {
     "data": {
      "text/html": [
       "<div>\n",
       "<style scoped>\n",
       "    .dataframe tbody tr th:only-of-type {\n",
       "        vertical-align: middle;\n",
       "    }\n",
       "\n",
       "    .dataframe tbody tr th {\n",
       "        vertical-align: top;\n",
       "    }\n",
       "\n",
       "    .dataframe thead th {\n",
       "        text-align: right;\n",
       "    }\n",
       "</style>\n",
       "<table border=\"1\" class=\"dataframe\">\n",
       "  <thead>\n",
       "    <tr style=\"text-align: right;\">\n",
       "      <th></th>\n",
       "      <th>id</th>\n",
       "      <th>name</th>\n",
       "      <th>host_id</th>\n",
       "      <th>host_name</th>\n",
       "      <th>neighbourhood_group</th>\n",
       "      <th>neighbourhood</th>\n",
       "      <th>latitude</th>\n",
       "      <th>longitude</th>\n",
       "      <th>room_type</th>\n",
       "      <th>price</th>\n",
       "      <th>minimum_nights</th>\n",
       "      <th>number_of_reviews</th>\n",
       "      <th>last_review</th>\n",
       "      <th>reviews_per_month</th>\n",
       "      <th>calculated_host_listings_count</th>\n",
       "      <th>availability_365</th>\n",
       "      <th>number_of_reviews_ltm</th>\n",
       "      <th>license</th>\n",
       "    </tr>\n",
       "  </thead>\n",
       "  <tbody>\n",
       "    <tr>\n",
       "      <th>36039</th>\n",
       "      <td>1134900809771751391</td>\n",
       "      <td>Stylish 3 bedrooms in Brooklyn</td>\n",
       "      <td>503294089</td>\n",
       "      <td>Nir</td>\n",
       "      <td>Brooklyn</td>\n",
       "      <td>Crown Heights</td>\n",
       "      <td>40.672919</td>\n",
       "      <td>-73.931492</td>\n",
       "      <td>Entire home/apt</td>\n",
       "      <td>NaN</td>\n",
       "      <td>30</td>\n",
       "      <td>0</td>\n",
       "      <td>NaN</td>\n",
       "      <td>NaN</td>\n",
       "      <td>1</td>\n",
       "      <td>269</td>\n",
       "      <td>0</td>\n",
       "      <td>NaN</td>\n",
       "    </tr>\n",
       "  </tbody>\n",
       "</table>\n",
       "</div>"
      ],
      "text/plain": [
       "                        id                            name    host_id  \\\n",
       "36039  1134900809771751391  Stylish 3 bedrooms in Brooklyn  503294089   \n",
       "\n",
       "      host_name neighbourhood_group  neighbourhood   latitude  longitude  \\\n",
       "36039       Nir            Brooklyn  Crown Heights  40.672919 -73.931492   \n",
       "\n",
       "             room_type  price  minimum_nights  number_of_reviews last_review  \\\n",
       "36039  Entire home/apt    NaN              30                  0         NaN   \n",
       "\n",
       "       reviews_per_month  calculated_host_listings_count  availability_365  \\\n",
       "36039                NaN                               1               269   \n",
       "\n",
       "       number_of_reviews_ltm license  \n",
       "36039                      0     NaN  "
      ]
     },
     "execution_count": 1,
     "metadata": {},
     "output_type": "execute_result"
    }
   ],
   "source": [
    "import pandas as pd\n",
    "\n",
    "data = pd.read_csv(\"listings_new_york_2024.csv\")\n",
    "\n",
    "data.sample(1)"
   ]
  },
  {
   "cell_type": "code",
   "execution_count": 12,
   "metadata": {},
   "outputs": [
    {
     "name": "stdout",
     "output_type": "stream",
     "text": [
      "rows =  37765\n",
      "columns =  18\n"
     ]
    }
   ],
   "source": [
    "rows, columns = data.shape\n",
    "print(\"rows = \", rows)\n",
    "print(\"columns = \", columns)"
   ]
  },
  {
   "cell_type": "code",
   "execution_count": 16,
   "metadata": {},
   "outputs": [
    {
     "data": {
      "text/plain": [
       "<bound method NDFrame.describe of                         id                                               name  \\\n",
       "0                     2595                              Skylit Midtown Castle   \n",
       "1                     5136    Spacious Family Friendly Duplex w/ Patio + Yard   \n",
       "2                     6848                   Only 2 stops to Manhattan studio   \n",
       "3                     6872  Uptown Sanctuary w/ Private Bath (Month to Month)   \n",
       "4                     6990                            UES Beautiful Blue Room   \n",
       "...                    ...                                                ...   \n",
       "37760  1192946306020922085                         Private Studio in Brooklyn   \n",
       "37761  1193005542763264121                   Skyline Views from MSG Penthouse   \n",
       "37762  1193016130087171760  Stunning designer Chelsea studio on the best b...   \n",
       "37763  1193068036013405081                         Sunny & Spacious in Queens   \n",
       "37764  1193086058992851452                        Bright 2 Bedroom in Astoria   \n",
       "\n",
       "         host_id      host_name neighbourhood_group     neighbourhood  \\\n",
       "0           2845       Jennifer           Manhattan           Midtown   \n",
       "1           7378        Rebecca            Brooklyn       Sunset Park   \n",
       "2          15991  Allen & Irina            Brooklyn      Williamsburg   \n",
       "3          16104            Kae           Manhattan       East Harlem   \n",
       "4          16800            Cyn           Manhattan       East Harlem   \n",
       "...          ...            ...                 ...               ...   \n",
       "37760  137493949         Sydney            Brooklyn      Clinton Hill   \n",
       "37761  559434422           Luis           Manhattan           Chelsea   \n",
       "37762   35491667            Nat           Manhattan           Chelsea   \n",
       "37763   20380663     Anastasios              Queens          Elmhurst   \n",
       "37764     910709         Israel              Queens  Ditmars Steinway   \n",
       "\n",
       "        latitude  longitude        room_type  price  minimum_nights  \\\n",
       "0      40.753560 -73.985590  Entire home/apt    NaN              30   \n",
       "1      40.662650 -73.994540  Entire home/apt  215.0              30   \n",
       "2      40.709350 -73.953420  Entire home/apt   81.0              30   \n",
       "3      40.801070 -73.942550     Private room   65.0              30   \n",
       "4      40.787780 -73.947590     Private room   65.0              30   \n",
       "...          ...        ...              ...    ...             ...   \n",
       "37760  40.684009 -73.967850  Entire home/apt   95.0              30   \n",
       "37761  40.751493 -73.996157  Entire home/apt  599.0              30   \n",
       "37762  40.741720 -74.002750  Entire home/apt   75.0              30   \n",
       "37763  40.731090 -73.878070  Entire home/apt   96.0              30   \n",
       "37764  40.776915 -73.907386  Entire home/apt  225.0              30   \n",
       "\n",
       "       number_of_reviews last_review  reviews_per_month  \\\n",
       "0                     49  2022-06-21               0.28   \n",
       "1                      4  2023-08-20               0.03   \n",
       "2                    193  2024-05-18               1.05   \n",
       "3                      1  2022-06-05               0.04   \n",
       "4                    247  2024-03-06               1.38   \n",
       "...                  ...         ...                ...   \n",
       "37760                  0         NaN                NaN   \n",
       "37761                  0         NaN                NaN   \n",
       "37762                  0         NaN                NaN   \n",
       "37763                  0         NaN                NaN   \n",
       "37764                  0         NaN                NaN   \n",
       "\n",
       "       calculated_host_listings_count  availability_365  \\\n",
       "0                                   3               300   \n",
       "1                                   1                71   \n",
       "2                                   1               193   \n",
       "3                                   2               365   \n",
       "4                                   1               212   \n",
       "...                               ...               ...   \n",
       "37760                               1                37   \n",
       "37761                               1               269   \n",
       "37762                              80               242   \n",
       "37763                               2               365   \n",
       "37764                               1                33   \n",
       "\n",
       "       number_of_reviews_ltm license  \n",
       "0                          0     NaN  \n",
       "1                          1     NaN  \n",
       "2                          3     NaN  \n",
       "3                          0     NaN  \n",
       "4                          2     NaN  \n",
       "...                      ...     ...  \n",
       "37760                      0     NaN  \n",
       "37761                      0     NaN  \n",
       "37762                      0     NaN  \n",
       "37763                      0     NaN  \n",
       "37764                      0     NaN  \n",
       "\n",
       "[37765 rows x 18 columns]>"
      ]
     },
     "execution_count": 16,
     "metadata": {},
     "output_type": "execute_result"
    }
   ],
   "source": [
    "data.dtypes"
   ]
  }
 ],
 "metadata": {
  "kernelspec": {
   "display_name": "Python 3",
   "language": "python",
   "name": "python3"
  },
  "language_info": {
   "codemirror_mode": {
    "name": "ipython",
    "version": 3
   },
   "file_extension": ".py",
   "mimetype": "text/x-python",
   "name": "python",
   "nbconvert_exporter": "python",
   "pygments_lexer": "ipython3",
   "version": "3.12.2"
  }
 },
 "nbformat": 4,
 "nbformat_minor": 2
}
