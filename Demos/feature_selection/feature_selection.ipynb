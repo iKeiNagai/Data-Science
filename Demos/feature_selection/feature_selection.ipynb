{
 "cells": [
  {
   "cell_type": "code",
   "execution_count": 1,
   "id": "b516043b",
   "metadata": {},
   "outputs": [],
   "source": [
    "import pandas as pd\n",
    "import numpy as np\n",
    "import matplotlib.pyplot as plt\n",
    "from sklearn.datasets import load_wine"
   ]
  },
  {
   "cell_type": "markdown",
   "id": "94de16d5",
   "metadata": {},
   "source": [
    "# Read the data "
   ]
  },
  {
   "cell_type": "code",
   "execution_count": 2,
   "id": "19aee7d5",
   "metadata": {},
   "outputs": [
    {
     "data": {
      "text/html": [
       "<div>\n",
       "<style scoped>\n",
       "    .dataframe tbody tr th:only-of-type {\n",
       "        vertical-align: middle;\n",
       "    }\n",
       "\n",
       "    .dataframe tbody tr th {\n",
       "        vertical-align: top;\n",
       "    }\n",
       "\n",
       "    .dataframe thead th {\n",
       "        text-align: right;\n",
       "    }\n",
       "</style>\n",
       "<table border=\"1\" class=\"dataframe\">\n",
       "  <thead>\n",
       "    <tr style=\"text-align: right;\">\n",
       "      <th></th>\n",
       "      <th>alcohol</th>\n",
       "      <th>malic_acid</th>\n",
       "      <th>ash</th>\n",
       "      <th>alcalinity_of_ash</th>\n",
       "      <th>magnesium</th>\n",
       "      <th>total_phenols</th>\n",
       "      <th>flavanoids</th>\n",
       "      <th>nonflavanoid_phenols</th>\n",
       "      <th>proanthocyanins</th>\n",
       "      <th>color_intensity</th>\n",
       "      <th>hue</th>\n",
       "      <th>od280/od315_of_diluted_wines</th>\n",
       "      <th>proline</th>\n",
       "      <th>target</th>\n",
       "    </tr>\n",
       "  </thead>\n",
       "  <tbody>\n",
       "    <tr>\n",
       "      <th>6</th>\n",
       "      <td>14.39</td>\n",
       "      <td>1.87</td>\n",
       "      <td>2.45</td>\n",
       "      <td>14.6</td>\n",
       "      <td>96.0</td>\n",
       "      <td>2.50</td>\n",
       "      <td>2.52</td>\n",
       "      <td>0.30</td>\n",
       "      <td>1.98</td>\n",
       "      <td>5.25</td>\n",
       "      <td>1.02</td>\n",
       "      <td>3.58</td>\n",
       "      <td>1290.0</td>\n",
       "      <td>0</td>\n",
       "    </tr>\n",
       "    <tr>\n",
       "      <th>124</th>\n",
       "      <td>11.87</td>\n",
       "      <td>4.31</td>\n",
       "      <td>2.39</td>\n",
       "      <td>21.0</td>\n",
       "      <td>82.0</td>\n",
       "      <td>2.86</td>\n",
       "      <td>3.03</td>\n",
       "      <td>0.21</td>\n",
       "      <td>2.91</td>\n",
       "      <td>2.80</td>\n",
       "      <td>0.75</td>\n",
       "      <td>3.64</td>\n",
       "      <td>380.0</td>\n",
       "      <td>1</td>\n",
       "    </tr>\n",
       "    <tr>\n",
       "      <th>122</th>\n",
       "      <td>12.42</td>\n",
       "      <td>4.43</td>\n",
       "      <td>2.73</td>\n",
       "      <td>26.5</td>\n",
       "      <td>102.0</td>\n",
       "      <td>2.20</td>\n",
       "      <td>2.13</td>\n",
       "      <td>0.43</td>\n",
       "      <td>1.71</td>\n",
       "      <td>2.08</td>\n",
       "      <td>0.92</td>\n",
       "      <td>3.12</td>\n",
       "      <td>365.0</td>\n",
       "      <td>1</td>\n",
       "    </tr>\n",
       "    <tr>\n",
       "      <th>80</th>\n",
       "      <td>12.00</td>\n",
       "      <td>0.92</td>\n",
       "      <td>2.00</td>\n",
       "      <td>19.0</td>\n",
       "      <td>86.0</td>\n",
       "      <td>2.42</td>\n",
       "      <td>2.26</td>\n",
       "      <td>0.30</td>\n",
       "      <td>1.43</td>\n",
       "      <td>2.50</td>\n",
       "      <td>1.38</td>\n",
       "      <td>3.12</td>\n",
       "      <td>278.0</td>\n",
       "      <td>1</td>\n",
       "    </tr>\n",
       "    <tr>\n",
       "      <th>162</th>\n",
       "      <td>12.85</td>\n",
       "      <td>3.27</td>\n",
       "      <td>2.58</td>\n",
       "      <td>22.0</td>\n",
       "      <td>106.0</td>\n",
       "      <td>1.65</td>\n",
       "      <td>0.60</td>\n",
       "      <td>0.60</td>\n",
       "      <td>0.96</td>\n",
       "      <td>5.58</td>\n",
       "      <td>0.87</td>\n",
       "      <td>2.11</td>\n",
       "      <td>570.0</td>\n",
       "      <td>2</td>\n",
       "    </tr>\n",
       "    <tr>\n",
       "      <th>12</th>\n",
       "      <td>13.75</td>\n",
       "      <td>1.73</td>\n",
       "      <td>2.41</td>\n",
       "      <td>16.0</td>\n",
       "      <td>89.0</td>\n",
       "      <td>2.60</td>\n",
       "      <td>2.76</td>\n",
       "      <td>0.29</td>\n",
       "      <td>1.81</td>\n",
       "      <td>5.60</td>\n",
       "      <td>1.15</td>\n",
       "      <td>2.90</td>\n",
       "      <td>1320.0</td>\n",
       "      <td>0</td>\n",
       "    </tr>\n",
       "    <tr>\n",
       "      <th>146</th>\n",
       "      <td>13.88</td>\n",
       "      <td>5.04</td>\n",
       "      <td>2.23</td>\n",
       "      <td>20.0</td>\n",
       "      <td>80.0</td>\n",
       "      <td>0.98</td>\n",
       "      <td>0.34</td>\n",
       "      <td>0.40</td>\n",
       "      <td>0.68</td>\n",
       "      <td>4.90</td>\n",
       "      <td>0.58</td>\n",
       "      <td>1.33</td>\n",
       "      <td>415.0</td>\n",
       "      <td>2</td>\n",
       "    </tr>\n",
       "  </tbody>\n",
       "</table>\n",
       "</div>"
      ],
      "text/plain": [
       "     alcohol  malic_acid   ash  alcalinity_of_ash  magnesium  total_phenols  \\\n",
       "6      14.39        1.87  2.45               14.6       96.0           2.50   \n",
       "124    11.87        4.31  2.39               21.0       82.0           2.86   \n",
       "122    12.42        4.43  2.73               26.5      102.0           2.20   \n",
       "80     12.00        0.92  2.00               19.0       86.0           2.42   \n",
       "162    12.85        3.27  2.58               22.0      106.0           1.65   \n",
       "12     13.75        1.73  2.41               16.0       89.0           2.60   \n",
       "146    13.88        5.04  2.23               20.0       80.0           0.98   \n",
       "\n",
       "     flavanoids  nonflavanoid_phenols  proanthocyanins  color_intensity   hue  \\\n",
       "6          2.52                  0.30             1.98             5.25  1.02   \n",
       "124        3.03                  0.21             2.91             2.80  0.75   \n",
       "122        2.13                  0.43             1.71             2.08  0.92   \n",
       "80         2.26                  0.30             1.43             2.50  1.38   \n",
       "162        0.60                  0.60             0.96             5.58  0.87   \n",
       "12         2.76                  0.29             1.81             5.60  1.15   \n",
       "146        0.34                  0.40             0.68             4.90  0.58   \n",
       "\n",
       "     od280/od315_of_diluted_wines  proline  target  \n",
       "6                            3.58   1290.0       0  \n",
       "124                          3.64    380.0       1  \n",
       "122                          3.12    365.0       1  \n",
       "80                           3.12    278.0       1  \n",
       "162                          2.11    570.0       2  \n",
       "12                           2.90   1320.0       0  \n",
       "146                          1.33    415.0       2  "
      ]
     },
     "execution_count": 2,
     "metadata": {},
     "output_type": "execute_result"
    }
   ],
   "source": [
    "wine_data = load_wine()\n",
    "\n",
    "wine_df = pd.DataFrame(\n",
    "    data=wine_data.data,\n",
    "    columns=wine_data.feature_names\n",
    ")\n",
    "\n",
    "wine_df['target'] = wine_data.target\n",
    "\n",
    "wine_df.sample(7)"
   ]
  },
  {
   "cell_type": "code",
   "execution_count": 3,
   "id": "5302058c",
   "metadata": {},
   "outputs": [
    {
     "data": {
      "text/plain": [
       "target\n",
       "1    71\n",
       "0    59\n",
       "2    48\n",
       "Name: count, dtype: int64"
      ]
     },
     "execution_count": 3,
     "metadata": {},
     "output_type": "execute_result"
    }
   ],
   "source": [
    "wine_df['target'].value_counts()"
   ]
  },
  {
   "cell_type": "code",
   "execution_count": 4,
   "id": "0a88098b",
   "metadata": {},
   "outputs": [],
   "source": [
    "# All features without the target\n",
    "n_features = wine_df.shape[1] - 1 "
   ]
  },
  {
   "cell_type": "code",
   "execution_count": 5,
   "id": "37e49d08",
   "metadata": {},
   "outputs": [
    {
     "data": {
      "image/png": "[encoded data removed]",
      "text/plain": [
       "<Figure size 400x400 with 1 Axes>"
      ]
     },
     "metadata": {},
     "output_type": "display_data"
    }
   ],
   "source": [
    "target_value_counts = wine_df['target'].value_counts().to_dict()\n",
    "keys = list(target_value_counts.keys())\n",
    "values = list(target_value_counts.values())\n",
    "\n",
    "# Create the plot with a reduced figure size\n",
    "fig, ax = plt.subplots(figsize=(4, 4))  \n",
    "\n",
    "# Plot the bars with a reasonable width\n",
    "ax.bar(keys, values, width=0.65)  \n",
    "ax.set_xlabel('Category')\n",
    "ax.set_ylabel('Count')\n",
    "ax.set_xticks(keys)\n",
    "ax.set_xticklabels(keys)\n",
    "\n",
    "# Add text labels on top of the bars\n",
    "for index, value in target_value_counts.items():\n",
    "    plt.text(x=index, y=value+1, s=str(value), ha='center')\n",
    "\n",
    "plt.ylim(0, max(values) * 1.1)\n",
    "\n",
    "# Remove y-ticks\n",
    "plt.yticks([])\n",
    "\n",
    "plt.tight_layout()"
   ]
  },
  {
   "cell_type": "markdown",
   "id": "4bec37a2",
   "metadata": {},
   "source": [
    "## Train/test split "
   ]
  },
  {
   "cell_type": "code",
   "execution_count": 6,
   "id": "a19268df",
   "metadata": {},
   "outputs": [],
   "source": [
    "from sklearn.model_selection import train_test_split\n",
    "\n",
    "X = wine_df.drop(['target'], axis=1)\n",
    "y = wine_df['target']\n",
    "\n",
    "X_train, X_test, y_train, y_test = train_test_split(X,\n",
    "                                                   y,\n",
    "                                                   test_size=0.3,\n",
    "                                                   shuffle=True,\n",
    "                                                   stratify=y,\n",
    "                                                   random_state=42)"
   ]
  },
  {
   "cell_type": "markdown",
   "id": "92878e44",
   "metadata": {},
   "source": [
    "# Baseline model: Decision Tree with all features "
   ]
  },
  {
   "cell_type": "code",
   "execution_count": 7,
   "id": "dc6d8ed2",
   "metadata": {},
   "outputs": [
    {
     "name": "stdout",
     "output_type": "stream",
     "text": [
      "0.9629629629629629\n"
     ]
    }
   ],
   "source": [
    "from sklearn.tree import DecisionTreeClassifier\n",
    "from sklearn.metrics import accuracy_score\n",
    "\n",
    "# Train classifier using all features\n",
    "model = DecisionTreeClassifier(max_depth=5, random_state=42)\n",
    "model.fit(X_train, y_train)\n",
    "\n",
    "# Make predictions\n",
    "y_pred = model.predict(X_test)\n",
    "\n",
    "# Evaluate the model using accuracy\n",
    "accuracy = accuracy_score(y_test, y_pred)\n",
    "print(accuracy)"
   ]
  },
  {
   "cell_type": "markdown",
   "id": "62a23fd2",
   "metadata": {},
   "source": [
    "# Feature selection techniques\n",
    "## Variance threshold"
   ]
  },
  {
   "cell_type": "code",
   "execution_count": 8,
   "id": "af527afc",
   "metadata": {},
   "outputs": [
    {
     "data": {
      "text/plain": [
       "alcohol                             0.658341\n",
       "malic_acid                          1.123507\n",
       "ash                                 0.072433\n",
       "alcalinity_of_ash                  11.471279\n",
       "magnesium                         232.071532\n",
       "total_phenols                       0.393226\n",
       "flavanoids                          0.912299\n",
       "nonflavanoid_phenols                0.013873\n",
       "proanthocyanins                     0.335108\n",
       "color_intensity                     5.669722\n",
       "hue                                 0.052891\n",
       "od280/od315_of_diluted_wines        0.470021\n",
       "proline                         94906.710923\n",
       "dtype: float64"
      ]
     },
     "execution_count": 8,
     "metadata": {},
     "output_type": "execute_result"
    }
   ],
   "source": [
    "# Calculate the variance of each feature\n",
    "X_train.var(axis=0)"
   ]
  },
  {
   "cell_type": "code",
   "execution_count": 9,
   "id": "df6d520b",
   "metadata": {},
   "outputs": [],
   "source": [
    "from sklearn.preprocessing import MinMaxScaler\n",
    "\n",
    "scaler = MinMaxScaler()\n",
    "scaled_X_train = scaler.fit_transform(X_train)"
   ]
  },
  {
   "cell_type": "code",
   "execution_count": 10,
   "id": "2b61b57c",
   "metadata": {},
   "outputs": [
    {
     "data": {
      "image/png": "[encoded data removed]",
      "text/plain": [
       "<Figure size 1000x600 with 1 Axes>"
      ]
     },
     "metadata": {},
     "output_type": "display_data"
    }
   ],
   "source": [
    "# Plot sorted variances\n",
    "x = X.columns\n",
    "y = scaled_X_train.var(axis=0)\n",
    "\n",
    "# Sort the features and variance values\n",
    "sorted_indices = np.argsort(y)[::-1]  # Sorting in descending order\n",
    "sorted_x = x[sorted_indices]          # Sorted feature names\n",
    "sorted_y = y[sorted_indices]          # Sorted variances\n",
    "\n",
    "# Create horizontal bar plot\n",
    "plt.figure(figsize=(10, 6))\n",
    "bars = plt.barh(sorted_x, sorted_y)\n",
    "\n",
    "# Add value labels next to the bars\n",
    "for bar, value in zip(bars, sorted_y):\n",
    "    plt.text(bar.get_width() + 0.001, bar.get_y() + bar.get_height()/2, f'{value:.3f}', va='center')\n",
    "\n",
    "# Adjust x-axis limit to prevent clipping\n",
    "plt.xlim(0, max(sorted_y) * 1.1)\n",
    "\n",
    "# Remove x-ticks\n",
    "plt.xticks([])\n",
    "\n",
    "# Set labels and title\n",
    "plt.xlabel('Variance')\n",
    "plt.title('Feature Variances')\n",
    "\n",
    "# Invert y-axis to have the most variance at the top\n",
    "plt.gca().invert_yaxis()\n",
    "\n",
    "plt.tight_layout()\n"
   ]
  },
  {
   "cell_type": "code",
   "execution_count": 11,
   "id": "5772dc5e",
   "metadata": {},
   "outputs": [
    {
     "name": "stdout",
     "output_type": "stream",
     "text": [
      "1.0\n"
     ]
    }
   ],
   "source": [
    "X_train_dropped = X_train.drop(['ash', 'magnesium'], axis=1)\n",
    "X_test_dropped = X_test.drop(['ash', 'magnesium'], axis=1)\n",
    "\n",
    "model.fit(X_train_dropped, y_train)\n",
    "\n",
    "# Make predictions\n",
    "preds = model.predict(X_test_dropped)\n",
    "\n",
    "# Evaluate the model using accuracy\n",
    "accuracy = accuracy_score(y_test, preds)\n",
    "print(accuracy)"
   ]
  },
  {
   "cell_type": "markdown",
   "id": "5721061d",
   "metadata": {},
   "source": [
    "## *k*-best features "
   ]
  },
  {
   "cell_type": "code",
   "execution_count": 12,
   "id": "2296696e",
   "metadata": {},
   "outputs": [
    {
     "name": "stdout",
     "output_type": "stream",
     "text": [
      "[0.796, 0.889, 0.963, 1.0, 1.0, 0.981, 0.981, 1.0, 0.981, 0.926, 1.0, 0.926, 0.963]\n"
     ]
    }
   ],
   "source": [
    "from sklearn.feature_selection import SelectKBest\n",
    "from sklearn.feature_selection import mutual_info_classif\n",
    "\n",
    "k_best_accuracy_list = []\n",
    "\n",
    "for k in range(1, n_features+1):\n",
    "    k_best_selector = SelectKBest(mutual_info_classif, k=k)\n",
    "    k_best_selector.fit(X_train, y_train)\n",
    "    \n",
    "    sel_X_train = k_best_selector.transform(X_train)\n",
    "    sel_X_test = k_best_selector.transform(X_test)\n",
    "    \n",
    "    model.fit(sel_X_train, y_train)\n",
    "    k_best_preds = model.predict(sel_X_test)\n",
    "    \n",
    "    # Calculate accuracy \n",
    "    accuracy = accuracy_score(y_test, k_best_preds)\n",
    "    k_best_accuracy_list.append(accuracy)\n",
    "\n",
    "print([round(acc, 3) for acc in k_best_accuracy_list])"
   ]
  },
  {
   "cell_type": "code",
   "execution_count": 13,
   "id": "2cf6fde6",
   "metadata": {},
   "outputs": [],
   "source": [
    "def plot_accuracies(accuracies_list):\n",
    "    x = np.arange(1, len(accuracies_list)+1)\n",
    "    y = [round(acc, 3) for acc in accuracies_list]\n",
    "\n",
    "    _, ax = plt.subplots(figsize=(8, 6))\n",
    "\n",
    "    # Create the vertical bar plot\n",
    "    bars = ax.bar(x, y, width=0.4, color='lightblue')\n",
    "\n",
    "    # Set x and y labels\n",
    "    ax.set_xlabel('Number of features selected')\n",
    "    ax.set_ylabel('Accuracy')\n",
    "    ax.set_ylim(0, 1.2)\n",
    "\n",
    "    # Set custom ticks for x-axis\n",
    "    ax.set_xticks(x)\n",
    "    ax.set_xticklabels(np.arange(1, len(accuracies_list)+1))\n",
    "\n",
    "    # Add value labels above the bars\n",
    "    for bar, value in zip(bars, y):\n",
    "        ax.text(bar.get_x() + bar.get_width()/2, bar.get_height() + 0.03, f'{value:.3f}', ha='center')\n",
    "\n",
    "    plt.tight_layout()"
   ]
  },
  {
   "cell_type": "code",
   "execution_count": 14,
   "id": "ca80de8b",
   "metadata": {},
   "outputs": [
    {
     "data": {
      "image/png": "[encoded data removed]",
      "text/plain": [
       "<Figure size 800x600 with 1 Axes>"
      ]
     },
     "metadata": {},
     "output_type": "display_data"
    }
   ],
   "source": [
    "plot_accuracies(accuracies_list=k_best_accuracy_list)"
   ]
  },
  {
   "cell_type": "code",
   "execution_count": 15,
   "id": "3117209f",
   "metadata": {},
   "outputs": [],
   "source": [
    "def run_model_and_report(model, selector):\n",
    "    model.fit(sel_X_train, y_train)\n",
    "    preds = model.predict(sel_X_test)\n",
    "\n",
    "    # Report selected featrures\n",
    "    selected_feature_mask = selector.get_support()\n",
    "    selected_features = X_train.columns[selected_feature_mask]\n",
    "    print(f\"Chosen features: {list(selected_features)}\")\n",
    "\n",
    "    # Calculate accuracy \n",
    "    accuracy = accuracy_score(y_test, preds)\n",
    "    print(f\"Accuracy = {accuracy}\")"
   ]
  },
  {
   "cell_type": "code",
   "execution_count": 16,
   "id": "3290594e",
   "metadata": {},
   "outputs": [
    {
     "name": "stdout",
     "output_type": "stream",
     "text": [
      "Chosen features: ['flavanoids', 'color_intensity', 'od280/od315_of_diluted_wines', 'proline']\n",
      "Accuracy = 1.0\n"
     ]
    }
   ],
   "source": [
    "# Model with the best number of features according to k_best_selector\n",
    "k_best_selector = SelectKBest(mutual_info_classif, k=4)\n",
    "k_best_selector.fit(X_train, y_train)\n",
    "sel_X_train = k_best_selector.transform(X_train)\n",
    "sel_X_test = k_best_selector.transform(X_test)\n",
    "\n",
    "run_model_and_report(model=model,selector=k_best_selector)"
   ]
  },
  {
   "cell_type": "markdown",
   "id": "14e1c546",
   "metadata": {},
   "source": [
    "## Recursive feature elimination (RFE) "
   ]
  },
  {
   "cell_type": "code",
   "execution_count": 17,
   "id": "61fced55",
   "metadata": {},
   "outputs": [],
   "source": [
    "from sklearn.feature_selection import RFE\n",
    "\n",
    "rfe_accuracy_list = []\n",
    "\n",
    "for k in range(1, n_features+1):\n",
    "    RFE_selector = RFE(estimator=model, n_features_to_select=k, step=1)\n",
    "    RFE_selector.fit(X_train, y_train)\n",
    "    \n",
    "    sel_X_train = RFE_selector.transform(X_train)\n",
    "    sel_X_test = RFE_selector.transform(X_test)\n",
    "    \n",
    "    model.fit(sel_X_train, y_train)\n",
    "    RFE_preds = model.predict(sel_X_test)\n",
    "\n",
    "    accuracy = model.score(sel_X_test, y_test)\n",
    "    rfe_accuracy_list.append(accuracy)"
   ]
  },
  {
   "cell_type": "code",
   "execution_count": 18,
   "id": "a4c8319f",
   "metadata": {},
   "outputs": [
    {
     "data": {
      "image/png": "[encoded data removed]",
      "text/plain": [
       "<Figure size 800x600 with 1 Axes>"
      ]
     },
     "metadata": {},
     "output_type": "display_data"
    }
   ],
   "source": [
    "plot_accuracies(accuracies_list=rfe_accuracy_list)"
   ]
  },
  {
   "cell_type": "code",
   "execution_count": 19,
   "id": "c55e2420",
   "metadata": {},
   "outputs": [
    {
     "name": "stdout",
     "output_type": "stream",
     "text": [
      "Chosen features: ['flavanoids', 'color_intensity', 'proline']\n",
      "Accuracy = 0.9629629629629629\n"
     ]
    }
   ],
   "source": [
    "# Model with the best number of features according to RFE_selector\n",
    "RFE_selector = RFE(estimator=model, n_features_to_select=3, step=1)\n",
    "RFE_selector.fit(X_train, y_train)\n",
    "sel_X_train = RFE_selector.transform(X_train)\n",
    "sel_X_test = RFE_selector.transform(X_test)\n",
    "\n",
    "run_model_and_report(model=model,selector=RFE_selector)"
   ]
  },
  {
   "cell_type": "markdown",
   "id": "abaf9eda",
   "metadata": {},
   "source": [
    "# Sequential feature elimination / selection"
   ]
  },
  {
   "cell_type": "code",
   "execution_count": 20,
   "id": "27e19d3f",
   "metadata": {},
   "outputs": [],
   "source": [
    "from sklearn.feature_selection import SequentialFeatureSelector\n",
    "\n",
    "sfs_accuracy_list = []\n",
    "\n",
    "for k in range(1, 13):\n",
    "    SFS_selector = SequentialFeatureSelector(model, n_features_to_select=k, direction='backward') # try direction='forward'\n",
    "    SFS_selector.fit(X_train, y_train)\n",
    "    \n",
    "    sel_X_train = SFS_selector.transform(X_train)\n",
    "    sel_X_test = SFS_selector.transform(X_test)\n",
    "    \n",
    "    model.fit(sel_X_train, y_train)\n",
    "    RFE_preds = model.predict(sel_X_test)\n",
    "\n",
    "    accuracy = model.score(sel_X_test, y_test)\n",
    "    sfs_accuracy_list.append(accuracy)"
   ]
  },
  {
   "cell_type": "code",
   "execution_count": 21,
   "id": "72c95dc2",
   "metadata": {},
   "outputs": [
    {
     "data": {
      "image/png": "[encoded data removed]",
      "text/plain": [
       "<Figure size 800x600 with 1 Axes>"
      ]
     },
     "metadata": {},
     "output_type": "display_data"
    }
   ],
   "source": [
    "plot_accuracies(accuracies_list=sfs_accuracy_list)"
   ]
  },
  {
   "cell_type": "code",
   "execution_count": 22,
   "id": "c47cf1de",
   "metadata": {},
   "outputs": [
    {
     "name": "stdout",
     "output_type": "stream",
     "text": [
      "Chosen features: ['alcohol', 'magnesium', 'flavanoids', 'nonflavanoid_phenols', 'hue']\n",
      "Accuracy = 0.9444444444444444\n"
     ]
    }
   ],
   "source": [
    "# Model with the best number of features according to SFS_selector\n",
    "\n",
    "SFS_selector = SequentialFeatureSelector(model, n_features_to_select=5, direction='backward') # try direction='forward'\n",
    "SFS_selector.fit(X_train, y_train)\n",
    "sel_X_train = SFS_selector.transform(X_train)\n",
    "sel_X_test = SFS_selector.transform(X_test)\n",
    "\n",
    "run_model_and_report(model=model,selector=SFS_selector)"
   ]
  }
 ],
 "metadata": {
  "kernelspec": {
   "display_name": "Python 3",
   "language": "python",
   "name": "python3"
  },
  "language_info": {
   "codemirror_mode": {
    "name": "ipython",
    "version": 3
   },
   "file_extension": ".py",
   "mimetype": "text/x-python",
   "name": "python",
   "nbconvert_exporter": "python",
   "pygments_lexer": "ipython3",
   "version": "3.12.5"
  }
 },
 "nbformat": 4,
 "nbformat_minor": 5
}
