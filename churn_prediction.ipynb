{
 "cells": [
  {
   "cell_type": "markdown",
   "metadata": {},
   "source": [
    "The telecommunications sector in India is rapidly evolving, with many businesses being created and customers frequently switching between providers. **Churn** refers to the process where customers stop using a company's services or products. It is a key challenge for telecom companies to predict and minimize customer churn, as retaining customers is critical to business growth.\n",
    "\n",
    "As a data scientist for a telecom company, your task is to **predict customer churn** using demographic and usage data from four major telecom partners: *Airtel, Reliance Jio, Vodafone, and BSNL*. You will explore the key factors contributing to customer churn and build predictive models to help the company reduce churn rates.\n",
    "\n",
    "The dataset contains two csv-files:\n",
    "\n",
    "- `telecom_demographics.csv` contains information related to Indian customer demographics:\n",
    "\n",
    "| Variable             | Description                                      |\n",
    "|----------------------|--------------------------------------------------|\n",
    "| `customer_id `         | Unique identifier for each customer.             |\n",
    "| `telecom_partner `     | The telecom partner associated with the customer.|\n",
    "| `gender `              | The gender of the customer.                      |\n",
    "| `age `                 | The age of the customer.                         |\n",
    "| `state`                | The Indian state in which the customer is located.|\n",
    "| `city`                 | The city in which the customer is located.       |\n",
    "| `pincode`              | The pincode of the customer's location.          |\n",
    "| `registration_event` | When the customer registered with the telecom partner.|\n",
    "| `num_dependents`      | The number of dependents (e.g., children) the customer has.|\n",
    "| `estimated_salary`     | The customer's estimated salary.                 |\n",
    "\n",
    "- `telecom_usage` contains information about the usage patterns of Indian customers:\n",
    "\n",
    "| Variable   | Description                                                  |\n",
    "|------------|--------------------------------------------------------------|\n",
    "| `customer_id` | Unique identifier for each customer.                         |\n",
    "| `calls_made` | The number of calls made by the customer.                    |\n",
    "| `sms_sent`   | The number of SMS messages sent by the customer.             |\n",
    "| `data_used`  | The amount of data used by the customer.                     |\n",
    "| `churn`    | Binary variable indicating whether the customer has churned or not (1 = churned, 0 = not churned).|\n"
   ]
  },
  {
   "cell_type": "code",
   "execution_count": 1,
   "metadata": {},
   "outputs": [],
   "source": [
    "# Useful libraries\n",
    "import pandas as pd\n",
    "import matplotlib.pyplot as plt\n",
    "\n",
    "from sklearn.model_selection import train_test_split\n",
    "from sklearn.preprocessing import StandardScaler, OneHotEncoder, OrdinalEncoder\n",
    "from sklearn.compose import ColumnTransformer\n",
    "\n",
    "from sklearn.tree import DecisionTreeClassifier\n",
    "from sklearn.ensemble import RandomForestClassifier\n",
    "\n",
    "from sklearn.metrics import accuracy_score\n",
    "from sklearn import tree\n"
   ]
  }
 ],
 "metadata": {
  "kernelspec": {
   "display_name": "Python 3",
   "language": "python",
   "name": "python3"
  },
  "language_info": {
   "codemirror_mode": {
    "name": "ipython",
    "version": 3
   },
   "file_extension": ".py",
   "mimetype": "text/x-python",
   "name": "python",
   "nbconvert_exporter": "python",
   "pygments_lexer": "ipython3",
   "version": "3.12.2"
  }
 },
 "nbformat": 4,
 "nbformat_minor": 2
}
